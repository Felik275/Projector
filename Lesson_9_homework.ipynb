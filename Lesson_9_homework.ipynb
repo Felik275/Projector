{
 "cells": [
  {
   "cell_type": "markdown",
   "metadata": {},
   "source": [
    "### Practice\n",
    "\n",
    "**You have 100 cats.**\n",
    "\n",
    "One day you decide to arrange all your cats in a giant circle. Initially, none of your cats have any hats on. You walk around the circle 100 times, always starting at the same spot, with the first cat (cat # 1). Every time you stop at a cat, you either put a hat on it if it doesn’t have one on, or you take its hat off if it has one on.\n",
    "1. The first round, you stop at every cat, placing a hat on each one.\n",
    "2. The second round, you only stop at every second cat (#2, #4, #6, #8, etc.).\n",
    "3. The third round, you only stop at every third cat(#3, #6, #9, #12, etc.).\n",
    "4. You continue this process until you’ve made 100 rounds around the cats (e.g., you only visit the 100th cat).\n",
    "Write a program that simply outputs which cats have hats at the end.\n",
    "\n",
    "Optional: Make function that can calculate hat with any amount of rounds and cats.\n",
    "\n",
    "Here you should write an algorithm, after that, try to make pseudo code. Only after that start to work. Code is simple here, but you might struggle with algorithm. Therefore don`t try to write a code from the first attempt. \n",
    "\n",
    "*Homework should be uploaded at GitHub.com*\n",
    "*Result of this HW should be a link to your GitHub code*\n",
    "*To learn how to work in Git, read first three chapters of this book:*\n",
    "[GIT book](https://git-scm.com/book/en/v2)\n"
   ]
  },
  {
   "cell_type": "code",
   "execution_count": 1,
   "metadata": {},
   "outputs": [
    {
     "name": "stdout",
     "output_type": "stream",
     "text": [
      "Cats with hats - 9, cats without hats - 91\n"
     ]
    }
   ],
   "source": [
    "# creating a list with cats where 0 - cat with no hat on, 1 - cat with hat\n",
    "cats = [0 for cat in range(100)]\n",
    "\n",
    "# current round that will be incremented and used as step in loop\n",
    "current_round = 1\n",
    "\n",
    "# going 100 times in cicle\n",
    "while current_round <= 100:\n",
    "    \n",
    "    # checking every \"step\" cat\n",
    "    for i in range(0, 100, current_round):\n",
    "    \n",
    "    # conditional statement either to put or not a hat \n",
    "        if cats[i] == 0:\n",
    "            cats[i] = 1\n",
    "        \n",
    "        elif cats[i] == 1:\n",
    "            cats[i] = 0\n",
    "    \n",
    "    # round is finished and incremented\n",
    "    current_round += 1\n",
    "    \n",
    "# returning result\n",
    "print(f'Cats with hats - {cats.count(1)}, cats without hats - {cats.count(0)}')"
   ]
  },
  {
   "cell_type": "code",
   "execution_count": 2,
   "metadata": {},
   "outputs": [
    {
     "name": "stdout",
     "output_type": "stream",
     "text": [
      "Cats with hats - 139, cats without hats - 161\n"
     ]
    }
   ],
   "source": [
    "def hats_for_cates(\n",
    "    cat_quantity: int,\n",
    "    rounds: int\n",
    ") -> str:\n",
    "    \n",
    "    cats = [0 for cat in range(cat_quantity)]\n",
    "    current_round = 1\n",
    "    \n",
    "    while current_round <= rounds:\n",
    "    \n",
    "        for i in range(0, cat_quantity, current_round):\n",
    "        \n",
    "            if cats[i] == 0:\n",
    "                cats[i] = 1\n",
    "            \n",
    "            elif cats[i] == 1:\n",
    "                cats[i] = 0\n",
    "        \n",
    "        current_round += 1\n",
    "    \n",
    "    print(f'Cats with hats - {cats.count(1)}, cats without hats - {cats.count(0)}')\n",
    "    \n",
    "hats_for_cates(300, 15)"
   ]
  }
 ],
 "metadata": {
  "kernelspec": {
   "display_name": "Python 3 (ipykernel)",
   "language": "python",
   "name": "python3"
  },
  "language_info": {
   "codemirror_mode": {
    "name": "ipython",
    "version": 3
   },
   "file_extension": ".py",
   "mimetype": "text/x-python",
   "name": "python",
   "nbconvert_exporter": "python",
   "pygments_lexer": "ipython3",
   "version": "3.9.7"
  },
  "vscode": {
   "interpreter": {
    "hash": "397704579725e15f5c7cb49fe5f0341eb7531c82d19f2c29d197e8b64ab5776b"
   }
  }
 },
 "nbformat": 4,
 "nbformat_minor": 2
}
